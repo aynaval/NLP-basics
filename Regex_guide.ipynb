{
  "nbformat": 4,
  "nbformat_minor": 0,
  "metadata": {
    "colab": {
      "provenance": [],
      "authorship_tag": "ABX9TyMqhy96lnmb2sIvzrk9hwUD",
      "include_colab_link": true
    },
    "kernelspec": {
      "name": "python3",
      "display_name": "Python 3"
    },
    "language_info": {
      "name": "python"
    }
  },
  "cells": [
    {
      "cell_type": "markdown",
      "metadata": {
        "id": "view-in-github",
        "colab_type": "text"
      },
      "source": [
        "<a href=\"https://colab.research.google.com/github/aynaval/NLP-basics/blob/main/Regex_guide.ipynb\" target=\"_parent\"><img src=\"https://colab.research.google.com/assets/colab-badge.svg\" alt=\"Open In Colab\"/></a>"
      ]
    },
    {
      "cell_type": "code",
      "source": [
        "import re # library for regular expression"
      ],
      "metadata": {
        "id": "QmSovGD2zgpS"
      },
      "execution_count": 1,
      "outputs": []
    },
    {
      "cell_type": "code",
      "source": [
        "text = 'I have called the service desk 100 times and nobody replies to me. I need a conversation ASAP!! My number is 111-1234567!'\n",
        "result = re.findall('111-1234567', text)\n",
        "result"
      ],
      "metadata": {
        "colab": {
          "base_uri": "https://localhost:8080/"
        },
        "id": "TgUb66qqEB_1",
        "outputId": "e4358a9a-7f17-4225-e5ed-66b4bd88b830"
      },
      "execution_count": 3,
      "outputs": [
        {
          "output_type": "execute_result",
          "data": {
            "text/plain": [
              "['111-1234567']"
            ]
          },
          "metadata": {},
          "execution_count": 3
        }
      ]
    },
    {
      "cell_type": "code",
      "source": [
        "result = re.findall(f'\\d',text)\n",
        "result\n",
        "\n",
        "# r is here means raw text, ie telling python to not treat '\\' as escape charecter but treat it as normal charecter."
      ],
      "metadata": {
        "colab": {
          "base_uri": "https://localhost:8080/"
        },
        "id": "mcexRFkpEk3W",
        "outputId": "69bc6d83-9bcf-4920-fcfc-93641e070113"
      },
      "execution_count": 5,
      "outputs": [
        {
          "output_type": "execute_result",
          "data": {
            "text/plain": [
              "['1', '0', '0', '1', '1', '1', '1', '2', '3', '4', '5', '6', '7']"
            ]
          },
          "metadata": {},
          "execution_count": 5
        }
      ]
    },
    {
      "cell_type": "code",
      "source": [
        "print(r'hello \\nworld!')\n",
        "print('hello \\nworld!')"
      ],
      "metadata": {
        "colab": {
          "base_uri": "https://localhost:8080/"
        },
        "id": "_udccUcmFAV5",
        "outputId": "dcdba0e7-7e78-4024-8197-2e0f9ffcf443"
      },
      "execution_count": 8,
      "outputs": [
        {
          "output_type": "stream",
          "name": "stdout",
          "text": [
            "hello \\nworld!\n",
            "hello \n",
            "world!\n"
          ]
        }
      ]
    },
    {
      "cell_type": "code",
      "source": [
        "result = re.findall(r'\\d+', text) \n",
        "result\n",
        "\n",
        "# + is kleene star plus which means one or more"
      ],
      "metadata": {
        "colab": {
          "base_uri": "https://localhost:8080/"
        },
        "id": "IrnjT8DrFdK5",
        "outputId": "f3fa5a14-b5e9-417b-c242-33e5ea49191f"
      },
      "execution_count": 10,
      "outputs": [
        {
          "output_type": "execute_result",
          "data": {
            "text/plain": [
              "['100', '111', '1234567']"
            ]
          },
          "metadata": {},
          "execution_count": 10
        }
      ]
    },
    {
      "cell_type": "code",
      "source": [
        "result = re.findall(r'\\d{3}-\\d{7}',text)\n",
        "result\n",
        "\n",
        "# {number} means that minimum that many numbe of times"
      ],
      "metadata": {
        "colab": {
          "base_uri": "https://localhost:8080/"
        },
        "id": "OUkE771QG-Je",
        "outputId": "e32eab48-19b1-4cf0-b30e-bfa342a8de49"
      },
      "execution_count": 12,
      "outputs": [
        {
          "output_type": "execute_result",
          "data": {
            "text/plain": [
              "['111-1234567']"
            ]
          },
          "metadata": {},
          "execution_count": 12
        }
      ]
    },
    {
      "cell_type": "code",
      "source": [
        "text = 'I have called the service desk 100 times and nobody replies to me. I need a conversation ASAP!! My number is 111-1234567! My other number is 7654321!'"
      ],
      "metadata": {
        "id": "CL7DFkvwHa-6"
      },
      "execution_count": 13,
      "outputs": []
    },
    {
      "cell_type": "code",
      "source": [
        "result = re.findall(r'\\d{3}-d{7}|\\d{7}',text)\n",
        "result \n",
        "\n",
        "\n",
        "# | = or gate"
      ],
      "metadata": {
        "colab": {
          "base_uri": "https://localhost:8080/"
        },
        "id": "aNlOY5HVHqEg",
        "outputId": "edf9c96d-dcde-480f-c91e-c9ad5e900637"
      },
      "execution_count": 14,
      "outputs": [
        {
          "output_type": "execute_result",
          "data": {
            "text/plain": [
              "['1234567', '7654321']"
            ]
          },
          "metadata": {},
          "execution_count": 14
        }
      ]
    },
    {
      "cell_type": "code",
      "source": [
        "text = '111-1234567! That is my number! The other one is 7654321!'"
      ],
      "metadata": {
        "id": "DGWlcHvvJNxr"
      },
      "execution_count": 17,
      "outputs": []
    },
    {
      "cell_type": "code",
      "source": [
        "result = re.findall(r'^\\d{3}-\\d{7}|^\\d{7}',text)\n",
        "result\n",
        "\n",
        "#^ = beginning of the sentence "
      ],
      "metadata": {
        "colab": {
          "base_uri": "https://localhost:8080/"
        },
        "id": "WDslkFgAIdwl",
        "outputId": "78ed38cc-17f6-41e1-955f-9d916ad9a664"
      },
      "execution_count": 19,
      "outputs": [
        {
          "output_type": "execute_result",
          "data": {
            "text/plain": [
              "['111-1234567']"
            ]
          },
          "metadata": {},
          "execution_count": 19
        }
      ]
    },
    {
      "cell_type": "markdown",
      "source": [
        "# Regex basic guide"
      ],
      "metadata": {
        "id": "ZIG1M_VQMQk7"
      }
    },
    {
      "cell_type": "markdown",
      "source": [
        "## 1. Literal charecters\n",
        "\n",
        "\n",
        "\n",
        "*   Pattren : [abc]\n",
        "*   Matches : Any character a,b or c.\n",
        "*   Examples : [aeiou] matches any vowel character.\n",
        "\n"
      ],
      "metadata": {
        "id": "gum1tWNPOPVp"
      }
    },
    {
      "cell_type": "code",
      "source": [
        "pattren = r'[aeiou]'\n",
        "text = 'Hello World'\n",
        "result = re.findall(pattren,text)\n",
        "result"
      ],
      "metadata": {
        "colab": {
          "base_uri": "https://localhost:8080/"
        },
        "id": "CiIrsBwMMUww",
        "outputId": "b6ed2773-10d8-4305-be28-c7c14e6b1d3d"
      },
      "execution_count": 24,
      "outputs": [
        {
          "output_type": "execute_result",
          "data": {
            "text/plain": [
              "['e', 'o', 'o']"
            ]
          },
          "metadata": {},
          "execution_count": 24
        }
      ]
    },
    {
      "cell_type": "markdown",
      "source": [
        "## 2. Character classes\n",
        "* pattern : \\d, \\w , \\s \n",
        "* Matches : Any digit(\\d), word character (\\w) or whitespace character (\\s)\n",
        "* Example : \\d{3} matches any three numbers"
      ],
      "metadata": {
        "id": "WoGvqcdyQLjv"
      }
    },
    {
      "cell_type": "code",
      "source": [
        "pattren = r'\\d{3}'\n",
        "text = 'The code id 123 and the number is 4567.'\n",
        "result = re.findall(pattren,text)\n",
        "result"
      ],
      "metadata": {
        "colab": {
          "base_uri": "https://localhost:8080/"
        },
        "id": "1BWNrLDPP7SE",
        "outputId": "48bf2c15-0d91-47a3-eb8a-b8d8d10fb4db"
      },
      "execution_count": 25,
      "outputs": [
        {
          "output_type": "execute_result",
          "data": {
            "text/plain": [
              "['123', '456']"
            ]
          },
          "metadata": {},
          "execution_count": 25
        }
      ]
    },
    {
      "cell_type": "markdown",
      "source": [
        "## 3. Negated character classes\n",
        "* Pattern : [^abc]\n",
        "* Matches : Any character except 'a', 'b', or 'c'.\n",
        "* Example : [^0-9] matches any non-digit character."
      ],
      "metadata": {
        "id": "4oZx72GASSgE"
      }
    },
    {
      "cell_type": "code",
      "source": [
        "pattren = r'[^0-9]'\n",
        "text = 'abc123'\n",
        "result = re.findall(pattren,text)\n",
        "result"
      ],
      "metadata": {
        "colab": {
          "base_uri": "https://localhost:8080/"
        },
        "id": "IqKPUkCWSRka",
        "outputId": "64d03d2f-a39a-4508-a092-d8d4ae4fa437"
      },
      "execution_count": 26,
      "outputs": [
        {
          "output_type": "execute_result",
          "data": {
            "text/plain": [
              "['a', 'b', 'c']"
            ]
          },
          "metadata": {},
          "execution_count": 26
        }
      ]
    },
    {
      "cell_type": "markdown",
      "source": [
        "## 4. Quantifiers\n",
        "* Pattern : *, +, ?, {m}, {m,n}\n",
        "* Matches : Zero or more (*), one or more (+), zero or one (?), exactly m occurrences ({m}), between m and n occurrences ({m,n}).\n",
        "* Example : \\d{2,4} matches a 2 to 4-digit number."
      ],
      "metadata": {
        "id": "ZkRyTSVeTHZK"
      }
    },
    {
      "cell_type": "code",
      "source": [
        "pattren = r'\\d{2,4}'\n",
        "text = 'abc123'\n",
        "result = re.findall(pattren,text)\n",
        "result\n"
      ],
      "metadata": {
        "colab": {
          "base_uri": "https://localhost:8080/"
        },
        "id": "nM-DNvMjS2bR",
        "outputId": "1f7a447f-8c9b-4e01-d26f-8bd7bbc49d1f"
      },
      "execution_count": 32,
      "outputs": [
        {
          "output_type": "execute_result",
          "data": {
            "text/plain": [
              "['123']"
            ]
          },
          "metadata": {},
          "execution_count": 32
        }
      ]
    },
    {
      "cell_type": "markdown",
      "source": [
        "## 5. Anchors\n",
        "\n",
        "* Pattern : ^, \\$\n",
        "* Matches : The start (^) or end ($) of a line.\n",
        "\n",
        "* Example : ^\\d{3}$ matches a three-digit number that occupies the entire line."
      ],
      "metadata": {
        "id": "VTg5_edTq7_K"
      }
    },
    {
      "cell_type": "code",
      "source": [
        "pattern = r'^\\d{3}$'\n",
        "text = \"123\"\n",
        "result = re.findall(pattern, text)\n",
        "print(result)"
      ],
      "metadata": {
        "colab": {
          "base_uri": "https://localhost:8080/"
        },
        "id": "RK-pVOeLqF9n",
        "outputId": "ad0a677d-44d3-42f0-be8c-710909a6c0a3"
      },
      "execution_count": 35,
      "outputs": [
        {
          "output_type": "stream",
          "name": "stdout",
          "text": [
            "['123']\n"
          ]
        }
      ]
    },
    {
      "cell_type": "markdown",
      "source": [
        "## 6. Alternation:\n",
        "\n",
        "* Pattern : |\n",
        "* Matches : Either the pattern before or after the |.\n",
        "* Example : cat|dog matches either \"cat\" or \"dog\"."
      ],
      "metadata": {
        "id": "g1cqNtfBrsUg"
      }
    },
    {
      "cell_type": "code",
      "source": [
        "pattern = r'cat|dog'\n",
        "text = \"I have a cat and a dog.\"\n",
        "result = re.findall(pattern, text)\n",
        "print(result)"
      ],
      "metadata": {
        "colab": {
          "base_uri": "https://localhost:8080/"
        },
        "id": "9WlRZt4prdX0",
        "outputId": "f7da5f70-b37a-4c00-c9b0-21a47807a363"
      },
      "execution_count": 36,
      "outputs": [
        {
          "output_type": "stream",
          "name": "stdout",
          "text": [
            "['cat', 'dog']\n"
          ]
        }
      ]
    },
    {
      "cell_type": "markdown",
      "source": [
        "## 7.Grouping and Capturing\n",
        "\n",
        "* Pattern : (...)\n",
        "* Matches : The pattern inside the parentheses as a group and captures it for later use.\n",
        "* Example : (ab)+ matches one or more occurrences of \"ab\""
      ],
      "metadata": {
        "id": "S2KGoW2dtLyD"
      }
    },
    {
      "cell_type": "code",
      "source": [
        "  pattern = r'cat|dog'\n",
        "text = \"I have a cat and a dog.\"\n",
        "result = re.findall(pattern, text)\n",
        "print(result)"
      ],
      "metadata": {
        "colab": {
          "base_uri": "https://localhost:8080/"
        },
        "id": "Y7den1Z1r1k4",
        "outputId": "b49d62dd-d8ed-4e4a-b6f4-966a7e390d5d"
      },
      "execution_count": 37,
      "outputs": [
        {
          "output_type": "stream",
          "name": "stdout",
          "text": [
            "['cat', 'dog']\n"
          ]
        }
      ]
    },
    {
      "cell_type": "markdown",
      "source": [
        "## 8. Greedy and Lazy Matching\n",
        "\n",
        "* Pattern : .*, .*?\n",
        "* Matches : Greedy matching (.*) matches as much as possible, while lazy matching (.*?) matches as little as possible.\n",
        "* Example : a.*b matches the longest string starting with 'a' and ending with 'b'."
      ],
      "metadata": {
        "id": "JDMz6Z2Ptgub"
      }
    },
    {
      "cell_type": "code",
      "source": [
        "pattern = r'a.*b'\n",
        "text = \"aabbbb\"\n",
        "result = re.findall(pattern, text)\n",
        "print(result)  \n"
      ],
      "metadata": {
        "colab": {
          "base_uri": "https://localhost:8080/"
        },
        "id": "b4DBKtjKtTfk",
        "outputId": "3a57211c-88fb-4a56-bf1c-4fcc68b08a47"
      },
      "execution_count": 38,
      "outputs": [
        {
          "output_type": "stream",
          "name": "stdout",
          "text": [
            "['aabbbb']\n"
          ]
        }
      ]
    },
    {
      "cell_type": "markdown",
      "source": [
        "## 9. Backreferences\n",
        "\n",
        "* Pattern : \\1, \\2, etc.\n",
        "* Matches : The contents of a previous capturing group.\n",
        "* Example : (a)\\1 matches \"aa\"."
      ],
      "metadata": {
        "id": "Xsadgu02tyvi"
      }
    },
    {
      "cell_type": "code",
      "source": [
        "pattern = r'(a)\\1'\n",
        "text = \"aa\"\n",
        "result = re.findall(pattern, text)\n",
        "print(result)"
      ],
      "metadata": {
        "colab": {
          "base_uri": "https://localhost:8080/"
        },
        "id": "P3oMZLKAtqfe",
        "outputId": "b685345e-efbd-457d-bc00-1b2ac1552546"
      },
      "execution_count": 40,
      "outputs": [
        {
          "output_type": "stream",
          "name": "stdout",
          "text": [
            "['a']\n"
          ]
        }
      ]
    },
    {
      "cell_type": "markdown",
      "source": [
        "# 10. Lookaheads and Lookbehinds\n",
        "\n",
        "* Pattern : (?=...), (?<=...)\n",
        "* Matches : A pattern only if it is followed by ((?=...)) or preceded by ((?<=...)) another pattern.\n",
        "* Example: (?=John)Doe matches \"Doe\" only if it is followed by \"John\".\n"
      ],
      "metadata": {
        "id": "VsXsiMeQuGEb"
      }
    },
    {
      "cell_type": "code",
      "source": [
        "pattern = r'(?=John)Doe'\n",
        "text = \"JohnDoe\"\n",
        "result = re.findall(pattern, text)\n",
        "print(result)"
      ],
      "metadata": {
        "colab": {
          "base_uri": "https://localhost:8080/"
        },
        "id": "Dp74Vx-Vt-os",
        "outputId": "4a8a2c84-b14b-4177-dbec-fd5e3d7cd70c"
      },
      "execution_count": 41,
      "outputs": [
        {
          "output_type": "stream",
          "name": "stdout",
          "text": [
            "[]\n"
          ]
        }
      ]
    },
    {
      "cell_type": "code",
      "source": [],
      "metadata": {
        "id": "_uKe6qNnuSq6"
      },
      "execution_count": null,
      "outputs": []
    }
  ]
}